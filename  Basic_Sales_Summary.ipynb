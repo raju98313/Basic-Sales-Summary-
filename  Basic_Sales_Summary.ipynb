{
 "cells": [
  {
   "cell_type": "code",
   "execution_count": 1,
   "id": "a82a41ce-6c79-4e70-ab61-c805e9093aac",
   "metadata": {},
   "outputs": [],
   "source": [
    "import pandas as pd\n",
    "import numpy as np\n",
    "import matplotlib.pyplot as plt\n",
    "import seaborn as sns\n"
   ]
  },
  {
   "cell_type": "code",
   "execution_count": 2,
   "id": "1aaa13f5-dcfe-4f03-8ed8-daf015c05d13",
   "metadata": {},
   "outputs": [],
   "source": [
    "import sqlite3  # imports the SQLite library\n",
    "conn = sqlite3.connect(\"sales_data.db\")  # connects (or creates) the database\n"
   ]
  },
  {
   "cell_type": "code",
   "execution_count": 3,
   "id": "bacff71f-195d-40c8-abb5-d3c47efc5519",
   "metadata": {},
   "outputs": [],
   "source": [
    "cursor = conn.cursor()"
   ]
  },
  {
   "cell_type": "code",
   "execution_count": 4,
   "id": "bc2330ca-72c1-4821-a07f-1d9e21dbb3af",
   "metadata": {},
   "outputs": [
    {
     "name": "stdout",
     "output_type": "stream",
     "text": [
      "(1, '2025-10-01', 'Laptop', 3, 750.0)\n",
      "(2, '2025-10-02', 'Smartphone', 5, 500.0)\n",
      "(3, '2025-10-03', 'Headphones', 10, 80.0)\n",
      "(4, '2025-10-04', 'Monitor', 2, 200.0)\n",
      "(5, '2025-10-05', 'Keyboard', 7, 45.0)\n"
     ]
    }
   ],
   "source": [
    "cursor.execute(\"SELECT * FROM sales;\")\n",
    "rows = cursor.fetchall()\n",
    "for row in rows:\n",
    "    print(row)\n"
   ]
  },
  {
   "cell_type": "code",
   "execution_count": 5,
   "id": "da85511a-9a01-41bb-80a8-56de4985ab34",
   "metadata": {},
   "outputs": [],
   "source": [
    "conn.close()"
   ]
  },
  {
   "cell_type": "code",
   "execution_count": 8,
   "id": "f24fb214-1f03-400e-bc34-a72e9afabce1",
   "metadata": {},
   "outputs": [
    {
     "name": "stdout",
     "output_type": "stream",
     "text": [
      "      product  total_qty  revenue\n",
      "0  Headphones         10    800.0\n",
      "1    Keyboard          7    315.0\n",
      "2      Laptop          3   2250.0\n",
      "3     Monitor          2    400.0\n",
      "4  Smartphone          5   2500.0\n"
     ]
    }
   ],
   "source": [
    "import sqlite3\n",
    "import pandas as pd\n",
    "\n",
    "# Connect to the SQLite database\n",
    "conn = sqlite3.connect(\"sales_data.db\")\n",
    "\n",
    "# Define your SQL query\n",
    "query = \"\"\"\n",
    "SELECT \n",
    "    product, \n",
    "    SUM(quantity) AS total_qty, \n",
    "    SUM(quantity * price) AS revenue\n",
    "FROM sales\n",
    "GROUP BY product\n",
    "\"\"\"\n",
    "\n",
    "# Use pandas to execute the query and fetch the result as a DataFrame\n",
    "df = pd.read_sql_query(query, conn)\n",
    "\n",
    "# Display the result\n",
    "print(df)\n",
    "\n",
    "# Close the connection\n",
    "\n"
   ]
  },
  {
   "cell_type": "code",
   "execution_count": 9,
   "id": "b57664d4-1ab9-4711-a949-be032589efa9",
   "metadata": {},
   "outputs": [],
   "source": [
    "df = pd.read_sql_query(query, conn)"
   ]
  },
  {
   "cell_type": "code",
   "execution_count": 10,
   "id": "6756a1a6-3875-4e74-9ba4-c6ff17a9df4c",
   "metadata": {},
   "outputs": [
    {
     "name": "stdout",
     "output_type": "stream",
     "text": [
      "      product  total_qty  revenue\n",
      "0  Headphones         10    800.0\n",
      "1    Keyboard          7    315.0\n",
      "2      Laptop          3   2250.0\n",
      "3     Monitor          2    400.0\n",
      "4  Smartphone          5   2500.0\n",
      "<bound method DataFrame.info of       product  total_qty  revenue\n",
      "0  Headphones         10    800.0\n",
      "1    Keyboard          7    315.0\n",
      "2      Laptop          3   2250.0\n",
      "3     Monitor          2    400.0\n",
      "4  Smartphone          5   2500.0>\n",
      "<bound method NDFrame.describe of       product  total_qty  revenue\n",
      "0  Headphones         10    800.0\n",
      "1    Keyboard          7    315.0\n",
      "2      Laptop          3   2250.0\n",
      "3     Monitor          2    400.0\n",
      "4  Smartphone          5   2500.0>\n"
     ]
    }
   ],
   "source": [
    "print(df.head(5)) # SHOW TOP 5 ROWS\n",
    "print(df.info)   # DATA TYPES AND NON-NULL COUNTS\n",
    "print(df.describe) # SUMMARY OF STATES"
   ]
  },
  {
   "cell_type": "code",
   "execution_count": 13,
   "id": "4bb9e364-99ad-4122-a334-9eae69950b37",
   "metadata": {},
   "outputs": [
    {
     "data": {
      "image/png": "[encoded data removed]",
      "text/plain": [
       "<Figure size 640x480 with 1 Axes>"
      ]
     },
     "metadata": {},
     "output_type": "display_data"
    },
    {
     "data": {
      "text/plain": [
       "<Figure size 640x480 with 0 Axes>"
      ]
     },
     "metadata": {},
     "output_type": "display_data"
    }
   ],
   "source": [
    "df.plot(kind='bar', x='product', y='revenue', legend=False)\n",
    "plt.title(\"Revenue by Product\")\n",
    "plt.ylabel(\"Total Revenue\")\n",
    "plt.show()\n",
    "\n",
    "plt.savefig(\"sales_chart.png\")\n"
   ]
  },
  {
   "cell_type": "code",
   "execution_count": null,
   "id": "8f51c785-e6b5-49f5-bcc2-bd2b1474ed30",
   "metadata": {},
   "outputs": [],
   "source": []
  }
 ],
 "metadata": {
  "kernelspec": {
   "display_name": "Python 3 (ipykernel)",
   "language": "python",
   "name": "python3"
  },
  "language_info": {
   "codemirror_mode": {
    "name": "ipython",
    "version": 3
   },
   "file_extension": ".py",
   "mimetype": "text/x-python",
   "name": "python",
   "nbconvert_exporter": "python",
   "pygments_lexer": "ipython3",
   "version": "3.13.5"
  }
 },
 "nbformat": 4,
 "nbformat_minor": 5
}
